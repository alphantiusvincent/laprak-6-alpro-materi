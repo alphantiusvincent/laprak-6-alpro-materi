{
  "nbformat": 4,
  "nbformat_minor": 0,
  "metadata": {
    "colab": {
      "provenance": []
    },
    "kernelspec": {
      "name": "python3",
      "display_name": "Python 3"
    },
    "language_info": {
      "name": "python"
    }
  },
  "cells": [
    {
      "cell_type": "code",
      "execution_count": null,
      "metadata": {
        "id": "Hl4w08s7Q_LT"
      },
      "outputs": [],
      "source": [
        "for i in range(1000):\n",
        " print(i)\n",
        " if i==10:\n",
        "     break"
      ]
    },
    {
      "cell_type": "code",
      "source": [
        "for i in range(1000):\n",
        "    if i==10:\n",
        "        break\n",
        "    print(i)\n"
      ],
      "metadata": {
        "id": "gEZBAsvEStEt"
      },
      "execution_count": null,
      "outputs": []
    },
    {
      "cell_type": "code",
      "source": [
        "for i in range(10):\n",
        " if i==5:\n",
        "    continue\n",
        " print(i)\n"
      ],
      "metadata": {
        "id": "EDVouzFEStI7"
      },
      "execution_count": null,
      "outputs": []
    },
    {
      "cell_type": "code",
      "source": [
        "n=int(input(\"Masukkan n = \"))\n",
        "for i in range(1,n+1):\n",
        "    if i%2==1:\n",
        "        for j in range(1,n+1):\n",
        "            print(j,\" \",end='')\n",
        "    else:\n",
        "        for j in range(n,0,-1):\n",
        "            print(j,\" \",end='')\n",
        "    print()"
      ],
      "metadata": {
        "id": "445mwqB3StNc"
      },
      "execution_count": null,
      "outputs": []
    },
    {
      "cell_type": "code",
      "source": [
        "n=int(input(\"Masukkan n = \"))\n",
        "for i in range(1,n+1):\n",
        "    for j in range(1,i+1):\n",
        "        print(i,\" \",end='')\n",
        "    print()"
      ],
      "metadata": {
        "id": "mRy-PW19VC3H"
      },
      "execution_count": null,
      "outputs": []
    },
    {
      "cell_type": "code",
      "source": [
        "hasil = \"\"\n",
        "\n",
        "x = int(input(\"Masukkan jumlah :\"))\n",
        "bar = x\n",
        " # Looping Baris\n",
        "while bar >= 0:\n",
        "\n",
        " # Looping Kolom Spasi Kosong\n",
        "    kol = bar\n",
        "    while kol > 0:\n",
        "        hasil += \"   \"\n",
        "        kol -= 1\n",
        "\n",
        " # Looping Kolom Bintang\n",
        "    kanan = 1\n",
        "    while kanan < (x - (bar-1)):\n",
        "        hasil += \" * \"\n",
        "        kanan += 1\n",
        "\n",
        "    hasil = hasil + \"\\n\"\n",
        "    bar -= 1\n",
        "\n",
        "print (hasil)\n"
      ],
      "metadata": {
        "id": "QBvjIhCpVC76"
      },
      "execution_count": null,
      "outputs": []
    },
    {
      "cell_type": "code",
      "source": [],
      "metadata": {
        "id": "mZg0JnwmVDBk"
      },
      "execution_count": null,
      "outputs": []
    }
  ]
}